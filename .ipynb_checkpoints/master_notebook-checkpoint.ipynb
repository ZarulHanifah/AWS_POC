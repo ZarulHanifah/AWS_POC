{
 "cells": [
  {
   "cell_type": "markdown",
   "metadata": {},
   "source": [
    "# AWS Tutorial"
   ]
  },
  {
   "cell_type": "markdown",
   "metadata": {},
   "source": [
    "Hello everyone. The purpose of this tutorial is to document our experience of using AWS and explore how we can use the plethora of AWS services for genomics research in Monash University Malaysia.\n",
    "\n",
    "For starters, this tutorial will be distributed into a compressed file. The parent directory should contain folders (script, images, notebooks) and the main notebook.\n",
    "\n",
    "Here are the possible points to explore in AWS, notebooks are numbered:"
   ]
  },
  {
   "cell_type": "markdown",
   "metadata": {},
   "source": [
    "Notebook00. [Activating Proof-of-Concept (POC) credits](./notebooks/Notebook00.ipynb)</br>\n",
    "Notebook01. [Starting an instance](./notebooks/Notebook01.ipynb)</br>\n",
    "Notebook02. [Set billing alarm](./notebooks/Notebook02.ipynb)</br>\n",
    "Notebook03. IAM roles</br>\n",
    "Notebook04. AWS S3</br>\n",
    "Notebook05. Installing miniconda and run Jupyter</br>\n",
    "Notebook06. Spot pricing</br>\n",
    "Notebook07. Multiple instances</br>\n",
    "Notebook08. Spot fleet</br>\n",
    "\n",
    "Notebook50. Get started - E. coli K12 genome</br>\n",
    "Notebook51. Unicycler - Illumina only</br>\n",
    "Notebook52. Unicycler - Nanopore only</br>\n",
    "Notebook53. Unicycler - Hybrid assembly</br>"
   ]
  }
 ],
 "metadata": {
  "kernelspec": {
   "display_name": "Python 3",
   "language": "python",
   "name": "python3"
  },
  "language_info": {
   "codemirror_mode": {
    "name": "ipython",
    "version": 3
   },
   "file_extension": ".py",
   "mimetype": "text/x-python",
   "name": "python",
   "nbconvert_exporter": "python",
   "pygments_lexer": "ipython3",
   "version": "3.7.1"
  }
 },
 "nbformat": 4,
 "nbformat_minor": 2
}
