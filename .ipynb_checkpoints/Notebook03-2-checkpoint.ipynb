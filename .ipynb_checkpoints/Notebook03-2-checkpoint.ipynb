{
 "cells": [
  {
   "cell_type": "markdown",
   "metadata": {},
   "source": [
    "# Unicycler is taking too long"
   ]
  },
  {
   "cell_type": "markdown",
   "metadata": {},
   "source": [
    "We have seen how long it took for Unicycler is taking too long for long read genome assembly. Should I actually wait? Well, I did a separate job (hybrid assembly on the same data) on another computer, and it has been over 5 days. How can we solve this?\n",
    "\n",
    "- Use a bigger instance?\n",
    "- Use more instances?\n",
    "- Subsample the data?\n",
    "\n",
    "By summing up the length of reads, the Nanopore data would have 5 Gbp. The size of the <em>E. coli</em> K12 MG1655 is 4.64 Mbp - thus we could have assembled the genome with over 1000X coverage. That is overkill for a genome assembly - [Ryan Wick](https://nanoporetech.com/resource-centre/completing-bacterial-genome-and-plasmid-assemblies) assembled the <em>Klebsiella pneumoniae</em> isolate INF177 with only 28X depth.\n",
    "\n",
    "I settled with 30X (139.2 Mbp) on our own HPC (15 cores) and it worked within 1 hour and 16 minutes. I repeated for 100X coverage, on 32 cores, and it finished in 21 minutes, which is great! Subsampling the data would reduce the computational hours required, and increasing the number of cores definitely would make things even faster. However, we have not yet assessed the quality of the assembly - that we will do in another notebook."
   ]
  },
  {
   "cell_type": "markdown",
   "metadata": {},
   "source": [
    "For the sake of the tutorial, I will demonstrate how it would look like doing it on AWS using the 30X subsampled data (cov30x.fasta)."
   ]
  },
  {
   "cell_type": "code",
   "execution_count": 3,
   "metadata": {},
   "outputs": [
    {
     "name": "stdout",
     "output_type": "stream",
     "text": [
      "\n",
      "\u001b[93m\u001b[1m\u001b[4mStarting Unicycler\u001b[0m \u001b[2m(2019-04-27 09:52:49)\u001b[0m\n",
      "\u001b[2m    Welcome to Unicycler, an assembly pipeline for bacterial genomes. Since you\u001b[0m\n",
      "\u001b[2mprovided only long reads, Unicycler will assemble the reads with miniasm and\u001b[0m\n",
      "\u001b[2mthen run repeated polishing rounds using Racon.\u001b[0m\n",
      "\u001b[2m    For more information, please see https://github.com/rrwick/Unicycler\u001b[0m\n",
      "\n",
      "Command: \u001b[1m/home/ubuntu/.anaconda3/envs/unic/bin/unicycler -l cov30x.fasta -o nanopore_only -t 15\u001b[0m\n",
      "\n",
      "Unicycler version: v0.4.7\n",
      "Using 15 threads\n",
      "\n",
      "Making output directory:\n",
      "  /home/ubuntu/EColi/nanopore_only\n",
      "\n",
      "Dependencies:\n",
      "  \u001b[4mProgram         Version   Status  \u001b[0m\n",
      "  \u001b[2mspades.py                 not used\u001b[0m\n",
      "  racon           1.3.2     \u001b[32mgood\u001b[0m    \n",
      "  makeblastdb     2.5.0+    \u001b[32mgood\u001b[0m    \n",
      "  tblastn         2.5.0+    \u001b[32mgood\u001b[0m    \n",
      "  \u001b[2mbowtie2-build             not used\u001b[0m\n",
      "  \u001b[2mbowtie2                   not used\u001b[0m\n",
      "  \u001b[2msamtools                  not used\u001b[0m\n",
      "  \u001b[2mjava                      not used\u001b[0m\n",
      "  \u001b[2mpilon                     not used\u001b[0m\n",
      "  \u001b[2mbcftools                  not used\u001b[0m\n",
      "\n",
      "\n",
      "\u001b[93m\u001b[1m\u001b[4mLoading reads\u001b[0m \u001b[2m(2019-04-27 09:52:49)\u001b[0m\n",
      "4,595 / 4,595 (100.0%) - 139,334,755 bp\n",
      "\n",
      "\n",
      "\u001b[93m\u001b[1m\u001b[4mAssembling contigs and long reads with miniasm\u001b[0m \u001b[2m(2019-04-27 09:52:49)\u001b[0m\n",
      "Saving to /home/ubuntu/EColi/nanopore_only/miniasm_assembly/01_assembly_reads.fastq:\n",
      "  4,595 long reads\n",
      "\n",
      "Finding overlaps with minimap... \u001b[32msuccess\u001b[0m\n",
      "  129,854 overlaps\n",
      "\n",
      "Assembling reads with miniasm... \u001b[32msuccess\u001b[0m\n",
      "  108 segments, 106 links\n",
      "\n",
      "Saving /home/ubuntu/EColi/nanopore_only/miniasm_assembly/11_branching_paths_removed.gfa\n",
      "Merging segments into unitigs:\n",
      "  2 linear unitigs\n",
      "  total size = 4,327,690 bp\n",
      "Saving /home/ubuntu/EColi/nanopore_only/miniasm_assembly/12_unitig_graph.gfa\n",
      "Saving /home/ubuntu/EColi/nanopore_only/002_unitig_graph.gfa\n",
      "\n",
      "\n",
      "\u001b[93m\u001b[1m\u001b[4mPolishing miniasm assembly with Racon\u001b[0m \u001b[2m(2019-04-27 09:53:06)\u001b[0m\n",
      "\u001b[2m    Unicycler now uses Racon to polish the miniasm assembly. It does multiple\u001b[0m\n",
      "\u001b[2mrounds of polishing to get the best consensus. Circular unitigs are rotated\u001b[0m\n",
      "\u001b[2mbetween rounds such that all parts (including the ends) are polished well.\u001b[0m\n",
      "\n",
      "Saving to /home/ubuntu/EColi/nanopore_only/miniasm_assembly/racon_polish/polishing_reads.fastq:\n",
      "  4,595 long reads\n",
      "\n",
      "Polish       Assembly          Mapping\u001b[0m\n",
      "\u001b[4mround            size          quality\u001b[0m\n",
      "begin       4,327,690         1,092.87\n",
      "1           4,579,245         1,957.06\n",
      "2           4,586,850         1,966.94\n",
      "3           4,588,654         1,968.50\n",
      "4           4,590,396         1,969.08\n",
      "5           4,596,629         1,969.02\n",
      "6           4,595,191         1,968.24\n",
      "7           4,594,223         1,968.59\n",
      "\n",
      "Best polish: /home/ubuntu/EColi/nanopore_only/miniasm_assembly/racon_polish/021_rotated.fasta\n",
      "Saving /home/ubuntu/EColi/nanopore_only/miniasm_assembly/13_racon_polished.gfa\n",
      "Saving /home/ubuntu/EColi/nanopore_only/003_racon_polished.gfa\n",
      "\n",
      "\n",
      "\u001b[93m\u001b[1m\u001b[4mAssembly complete\u001b[0m \u001b[2m(2019-04-27 10:02:16)\u001b[0m\n",
      "Saving /home/ubuntu/EColi/nanopore_only/assembly.gfa\n",
      "\n"
     ]
    }
   ],
   "source": [
    "unicycler -l cov30x.fasta \\\n",
    " -o nanopore_only \\\n",
    " -t 15"
   ]
  },
  {
   "cell_type": "markdown",
   "metadata": {},
   "source": [
    "Using AWS allows a lot of freedom in scaling up the computational power, but you have to pay for their services. I was quite at liberty using EC2 because the alarm billing that I set didn't trigger - so I let the instance run overnight. It turn's out that because of the POC I was using, the alarm wouldn't trigger, and based AWS Cost Explorer I have actually spent $71 in the span of 3 days.\n",
    "\n",
    "This is quite shocking to me. So, in the next notebooks, we will try and look into spot pricing in AWS, which should cut the price, as low as 90% discount. Using spot pricing, we can afford to use even bigger instances - we will continue with hybrid assembly there. But for now, I will terminate this instance."
   ]
  },
  {
   "cell_type": "markdown",
   "metadata": {},
   "source": [
    "![](../images/Notebook03-2/image01.png)"
   ]
  }
 ],
 "metadata": {
  "kernelspec": {
   "display_name": "Python 3",
   "language": "python",
   "name": "python3"
  },
  "language_info": {
   "codemirror_mode": {
    "name": "ipython",
    "version": 3
   },
   "file_extension": ".py",
   "mimetype": "text/x-python",
   "name": "python",
   "nbconvert_exporter": "python",
   "pygments_lexer": "ipython3",
   "version": "3.7.1"
  }
 },
 "nbformat": 4,
 "nbformat_minor": 2
}
