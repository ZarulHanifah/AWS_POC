{
 "cells": [
  {
   "cell_type": "markdown",
   "metadata": {},
   "source": [
    "# Starting an instance"
   ]
  },
  {
   "cell_type": "markdown",
   "metadata": {},
   "source": [
    "For now, the challenge in Genomics-Bioinformatics analyses are computational requirement and data storage. Not everyone has access to HPC. With AWS and a bit of money to spend, anyone can have access to a powerful computer. [Pat Schloss](https://www.youtube.com/watch?v=5RgRS5VPX1g&list=PLmNrK_nkqBpL0d2E26TqPkmTAfelYKbQX&index=5&t=0s) beautifully summarised the advantages of AWS vs traditional computing in one of his Riffomonas Project Youtube video."
   ]
  },
  {
   "cell_type": "markdown",
   "metadata": {},
   "source": [
    "In this tutorial, we are going to use AWS EC2 to start an instance. AWS provides free tier services, including for some low-powered instance. It might not be suitable for bioinformatics analyses, but it would be enough just to get a feel of AWS EC2 for now."
   ]
  },
  {
   "cell_type": "markdown",
   "metadata": {},
   "source": [
    "Go to [AWS](AWS.amazon.com), log in, go to services and click EC2 under Compute section."
   ]
  },
  {
   "cell_type": "markdown",
   "metadata": {},
   "source": [
    "![](../images/Notebook01/image01.png)"
   ]
  },
  {
   "cell_type": "markdown",
   "metadata": {},
   "source": [
    "You can see that our AWS region is Asia Pacific (Singapore). Click Launch Instance. Then choose an Amazon Machine Image (AMI) - basically the OS for your instance. I love Ubuntu, so I'll go with Ubuntu Server 18.04 LTS. Also, make sure that it is Free tier eligible if you want to use AWS free tier services."
   ]
  },
  {
   "cell_type": "markdown",
   "metadata": {},
   "source": [
    "![](../images/Notebook01/image02.png)"
   ]
  },
  {
   "cell_type": "markdown",
   "metadata": {},
   "source": [
    "Then, choose instance type. I'll choose t2.micro since it's free."
   ]
  },
  {
   "cell_type": "markdown",
   "metadata": {},
   "source": [
    "![](../images/Notebook01/image03.png)"
   ]
  },
  {
   "cell_type": "markdown",
   "metadata": {},
   "source": [
    "Next, configure instance details. Nothing much to change here. Proceed with adding storage. Free tier service extends up to 30 GB of EBS General Purpose (SSD). EBS is one of Amazon storage types that acts as the hard drive for your EC2 instance. You don't have to change anything here, unless if you want to increase EBS storage. Proceed to Add Tags, skip it. Configure security group - here you can change the rules of traffic to and from your instance. I'll just use the existing default VPC security group."
   ]
  },
  {
   "cell_type": "markdown",
   "metadata": {},
   "source": [
    "Next, review and launch the instance. If you don't have a key pair, create a new key file. I have my own key, so I'll choose that. Next, launch the instance - view it."
   ]
  },
  {
   "cell_type": "markdown",
   "metadata": {},
   "source": [
    "![](../images/Notebook01/image04.png)"
   ]
  },
  {
   "cell_type": "markdown",
   "metadata": {},
   "source": [
    "As you can see, there are two instances. The stopped instance was one that I used previously. The one that I just started was the one at pending state. Just wait a couple of minutes, and the state will change to running."
   ]
  },
  {
   "cell_type": "markdown",
   "metadata": {},
   "source": [
    "![](../images/Notebook01/image05.png)"
   ]
  },
  {
   "cell_type": "markdown",
   "metadata": {},
   "source": [
    "If you click on the instance, you can find out a lot of information about the instance down in the Description section. To make an ssh connection to the instance, just copy the Public DNA (IPv4) address.\n",
    "\n",
    "Next, connect through ssh, specifying the key file too. Since we are using ubuntu, the username would be ubuntu."
   ]
  },
  {
   "cell_type": "raw",
   "metadata": {},
   "source": [
    "ssh -i ~/Zarul/keys/mum_genomics_trial1.pem ec2-54-169-139-173.ap-southeast-1.compute.amazonaws.com"
   ]
  },
  {
   "cell_type": "markdown",
   "metadata": {},
   "source": [
    "![](../images/Notebook01/image06.png)"
   ]
  },
  {
   "cell_type": "markdown",
   "metadata": {},
   "source": [
    "Now, we are in EC2."
   ]
  }
 ],
 "metadata": {
  "kernelspec": {
   "display_name": "Bash",
   "language": "bash",
   "name": "bash"
  },
  "language_info": {
   "codemirror_mode": "shell",
   "file_extension": ".sh",
   "mimetype": "text/x-sh",
   "name": "bash"
  }
 },
 "nbformat": 4,
 "nbformat_minor": 2
}
