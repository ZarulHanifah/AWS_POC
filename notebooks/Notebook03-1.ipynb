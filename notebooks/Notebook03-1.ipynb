{
 "cells": [
  {
   "cell_type": "markdown",
   "metadata": {},
   "source": [
    "# Checking EBS and continue Unicycling"
   ]
  },
  {
   "cell_type": "markdown",
   "metadata": {},
   "source": [
    "Let's check the storage size."
   ]
  },
  {
   "cell_type": "code",
   "execution_count": 1,
   "metadata": {},
   "outputs": [
    {
     "name": "stdout",
     "output_type": "stream",
     "text": [
      "NAME    MAJ:MIN RM  SIZE RO TYPE MOUNTPOINT\n",
      "xvda    202:0    0  300G  0 disk \n",
      "`-xvda1 202:1    0  300G  0 part /\n",
      "loop0     7:0    0 89.3M  1 loop /snap/core/6673\n",
      "loop1     7:1    0 17.9M  1 loop /snap/amazon-ssm-agent/1068\n",
      "loop2     7:2    0 16.5M  1 loop /snap/amazon-ssm-agent/784\n",
      "loop3     7:3    0 87.9M  1 loop /snap/core/5742\n",
      "nvme0n1 259:0    0  1.7T  0 disk \n",
      "nvme1n1 259:1    0  1.7T  0 disk \n"
     ]
    }
   ],
   "source": [
    "lsblk"
   ]
  },
  {
   "cell_type": "markdown",
   "metadata": {},
   "source": [
    "Okay, it is 300 Gb."
   ]
  },
  {
   "cell_type": "code",
   "execution_count": 3,
   "metadata": {},
   "outputs": [
    {
     "name": "stdout",
     "output_type": "stream",
     "text": [
      "Filesystem      Size  Used Avail Use% Mounted on\n",
      "udev             60G     0   60G   0% /dev\n",
      "tmpfs            12G  8.8M   12G   1% /run\n",
      "/dev/xvda1      291G   47G  245G  16% /\n",
      "tmpfs            60G     0   60G   0% /dev/shm\n",
      "tmpfs           5.0M     0  5.0M   0% /run/lock\n",
      "tmpfs            60G     0   60G   0% /sys/fs/cgroup\n",
      "/dev/loop0       90M   90M     0 100% /snap/core/6673\n",
      "/dev/loop1       18M   18M     0 100% /snap/amazon-ssm-agent/1068\n",
      "/dev/loop2       17M   17M     0 100% /snap/amazon-ssm-agent/784\n",
      "/dev/loop3       88M   88M     0 100% /snap/core/5742\n",
      "tmpfs            12G   16K   12G   1% /run/user/1000\n"
     ]
    }
   ],
   "source": [
    "df -h"
   ]
  },
  {
   "cell_type": "markdown",
   "metadata": {},
   "source": [
    "Nice! We have a lot more storage to use. Let's download back the Illumina files."
   ]
  },
  {
   "cell_type": "code",
   "execution_count": 6,
   "metadata": {},
   "outputs": [
    {
     "name": "stdout",
     "output_type": "stream",
     "text": [
      "--2019-04-24 07:40:46--  http://spades.bioinf.spbau.ru/spades_test_datasets/ecoli_mc/s_6_1.fastq.gz\n",
      "Resolving spades.bioinf.spbau.ru (spades.bioinf.spbau.ru)... 194.85.238.21\n",
      "Connecting to spades.bioinf.spbau.ru (spades.bioinf.spbau.ru)|194.85.238.21|:80... connected.\n",
      "HTTP request sent, awaiting response... 200 OK\n",
      "Length: 1210172526 (1.1G) [application/x-gzip]\n",
      "Saving to: 's_6_1.fastq.gz'\n",
      "\n",
      "s_6_1.fastq.gz      100%[===================>]   1.13G  2.96MB/s    in 11m 19s \n",
      "\n",
      "2019-04-24 07:52:06 (1.70 MB/s) - 's_6_1.fastq.gz' saved [1210172526/1210172526]\n",
      "\n",
      "--2019-04-24 07:52:06--  http://spades.bioinf.spbau.ru/spades_test_datasets/ecoli_mc/s_6_2.fastq.gz\n",
      "Resolving spades.bioinf.spbau.ru (spades.bioinf.spbau.ru)... 194.85.238.21\n",
      "Connecting to spades.bioinf.spbau.ru (spades.bioinf.spbau.ru)|194.85.238.21|:80... connected.\n",
      "HTTP request sent, awaiting response... 200 OK\n",
      "Length: 1246700196 (1.2G) [application/x-gzip]\n",
      "Saving to: 's_6_2.fastq.gz'\n",
      "\n",
      "s_6_2.fastq.gz      100%[===================>]   1.16G  1.97MB/s    in 13m 48s \n",
      "\n",
      "2019-04-24 08:05:55 (1.44 MB/s) - 's_6_2.fastq.gz' saved [1246700196/1246700196]\n",
      "\n"
     ]
    }
   ],
   "source": [
    "wget http://spades.bioinf.spbau.ru/spades_test_datasets/ecoli_mc/s_6_1.fastq.gz\n",
    "wget http://spades.bioinf.spbau.ru/spades_test_datasets/ecoli_mc/s_6_2.fastq.gz"
   ]
  },
  {
   "cell_type": "markdown",
   "metadata": {},
   "source": [
    "Continue with assembly with only long reads."
   ]
  },
  {
   "cell_type": "code",
   "execution_count": 8,
   "metadata": {},
   "outputs": [
    {
     "name": "stdout",
     "output_type": "stream",
     "text": [
      "\n",
      "\u001b[93m\u001b[1m\u001b[4mStarting Unicycler\u001b[0m (2019-04-24 09:36:27)\n",
      "    Welcome to Unicycler, an assembly pipeline for bacterial genomes. Since you\n",
      "provided only long reads, Unicycler will assemble the reads with miniasm and\n",
      "then run repeated polishing rounds using Racon.\n",
      "    For more information, please see https://github.com/rrwick/Unicycler\n",
      "\n",
      "Command: \u001b[1m/home/ubuntu/.anaconda3/envs/unic/bin/unicycler -l ecoli_allreads.fasta -o nanopore_only -t 16\u001b[0m\n",
      "\n",
      "Unicycler version: v0.4.7\n",
      "Using 16 threads\n",
      "\n",
      "Making output directory:\n",
      "  /home/ubuntu/EColi/nanopore_only\n",
      "\n",
      "Dependencies:\n",
      "  \u001b[4mProgram         Version   Status  \u001b[0m\n",
      "  spades.py                 not used\u001b[0m\n",
      "  racon           1.3.2     \u001b[32mgood\u001b[0m    \n",
      "  makeblastdb     2.5.0+    \u001b[32mgood\u001b[0m    \n",
      "  tblastn         2.5.0+    \u001b[32mgood\u001b[0m    \n",
      "  bowtie2-build             not used\u001b[0m\n",
      "  bowtie2                   not used\u001b[0m\n",
      "  samtools                  not used\u001b[0m\n",
      "  java                      not used\u001b[0m\n",
      "  pilon                     not used\u001b[0m\n",
      "  bcftools                  not used\u001b[0m\n",
      "\n",
      "\n",
      "\u001b[93m\u001b[1m\u001b[4mLoading reads\u001b[0m (2019-04-24 09:36:27)\n",
      "150,604 / 150,604 (100.0%) - 5,014,576,373 bp\n",
      "\n",
      "\n",
      "\u001b[93m\u001b[1m\u001b[4mAssembling contigs and long reads with miniasm\u001b[0m (2019-04-24 09:36:44)\n",
      "Saving to /home/ubuntu/EColi/nanopore_only/miniasm_assembly/01_assembly_reads.fastq:\n",
      "  150,604 long reads\n",
      "\n",
      "Finding overlaps with minimap... \u001b[32msuccess\u001b[0m\n",
      "  168,837,377 overlaps\n",
      "\n",
      "Assembling reads with miniasm... \u001b[32msuccess\u001b[0m\n",
      "  70 segments, 68 links\n",
      "\n",
      "Saving /home/ubuntu/EColi/nanopore_only/miniasm_assembly/11_branching_paths_removed.gfa\n",
      "Merging segments into unitigs:\n",
      "  1 circular unitig\n",
      "  2 linear unitigs\n",
      "  total size = 5,731,486 bp\n",
      "Saving /home/ubuntu/EColi/nanopore_only/miniasm_assembly/12_unitig_graph.gfa\n",
      "Saving /home/ubuntu/EColi/nanopore_only/002_unitig_graph.gfa\n",
      "\n",
      "\n",
      "\u001b[93m\u001b[1m\u001b[4mPolishing miniasm assembly with Racon\u001b[0m (2019-04-24 10:14:02)\n",
      "    Unicycler now uses Racon to polish the miniasm assembly. It does multiple\n",
      "rounds of polishing to get the best consensus. Circular unitigs are rotated\n",
      "between rounds such that all parts (including the ends) are polished well.\n",
      "\n",
      "Saving to /home/ubuntu/EColi/nanopore_only/miniasm_assembly/racon_polish/polishing_reads.fastq:\n",
      "  150,604 long reads\n",
      "\n",
      "Polish       Assembly          Mapping\u001b[0m\n",
      "\u001b[4mround            size          quality\u001b[0m\n",
      "begin       5,731,486        42,188.44\n",
      "1           6,017,461        71,588.65\n",
      "2           6,052,107        73,002.60\n",
      "3           6,057,676        72,811.37\n",
      "Traceback (most recent call last):\n",
      "  File \"/home/ubuntu/.anaconda3/envs/unic/bin/unicycler\", line 12, in <module>\n",
      "    sys.exit(main())\n",
      "  File \"/home/ubuntu/.anaconda3/envs/unic/lib/python3.6/site-packages/unicycler/unicycler.py\", line 149, in main\n",
      "    anchor_segments, args.existing_long_read_assembly)\n",
      "  File \"/home/ubuntu/.anaconda3/envs/unic/lib/python3.6/site-packages/unicycler/miniasm_assembly.py\", line 205, in make_miniasm_string_graph\n",
      "    seg_nums_to_bridge)\n",
      "  File \"/home/ubuntu/.anaconda3/envs/unic/lib/python3.6/site-packages/unicycler/miniasm_assembly.py\", line 386, in polish_unitigs_with_racon\n",
      "    out, err = process.communicate()\n",
      "  File \"/home/ubuntu/.anaconda3/envs/unic/lib/python3.6/subprocess.py\", line 863, in communicate\n",
      "    stdout, stderr = self._communicate(input, endtime, timeout)\n",
      "  File \"/home/ubuntu/.anaconda3/envs/unic/lib/python3.6/subprocess.py\", line 1534, in _communicate\n",
      "    ready = selector.select(timeout)\n",
      "  File \"/home/ubuntu/.anaconda3/envs/unic/lib/python3.6/selectors.py\", line 376, in select\n",
      "    fd_event_list = self._poll.poll(timeout)\n",
      "KeyboardInterrupt\n"
     ]
    }
   ],
   "source": [
    "unicycler -l ecoli_allreads.fasta \\\n",
    " -o nanopore_only \\\n",
    " -t 16"
   ]
  },
  {
   "cell_type": "markdown",
   "metadata": {},
   "source": [
    "Okay, it has been over 4 hours and the job still hasn't finished. It might be that there is just too much reads in the Nanopore file. We'll continue this in [Notebook03-2](Notebook03-2.ipynb)."
   ]
  }
 ],
 "metadata": {
  "kernelspec": {
   "display_name": "Bash",
   "language": "bash",
   "name": "bash"
  },
  "language_info": {
   "codemirror_mode": "shell",
   "file_extension": ".sh",
   "mimetype": "text/x-sh",
   "name": "bash"
  }
 },
 "nbformat": 4,
 "nbformat_minor": 2
}
