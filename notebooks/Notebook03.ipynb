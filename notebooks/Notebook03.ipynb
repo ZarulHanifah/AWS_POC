{
 "cells": [
  {
   "cell_type": "markdown",
   "metadata": {},
   "source": [
    "# EC2 EBS volumes"
   ]
  },
  {
   "cell_type": "markdown",
   "metadata": {},
   "source": [
    "So, we have seen in Notebook02-1 that we have hit the limit for storage memory. Luckily, AWS EC2 instances run on Elastic Block Store (EBS) storage system, so it is easy to expand the storage memory, or to make snapshots of your storage, with a few click.\n",
    "\n",
    "Make sure to terminate your instance beforehand.\n",
    "\n",
    "From our EC2 dashboard, go to Instances on the navigation panel under the Instances section. Click on the instance (test_POC_i3.4xlarge). Then in the description below, click the root device (/dev/sda1)."
   ]
  },
  {
   "cell_type": "markdown",
   "metadata": {},
   "source": [
    "![](../images/Notebook03/image01.png)"
   ]
  },
  {
   "cell_type": "markdown",
   "metadata": {},
   "source": [
    "You can see that the volume ID is vol-0d31XX. We will want to keep the ID in mind. Now, on the navigation panel, under EBS section, go to Volumes. Click on the vol-0d31xx. From the Description section, we can see that the volume is indeed attached to our instance (test_POC_i3.4xlarge). It also has 50 Gb memory storage, which is exactly what was shown in Notebook02-1. You can also see Snapshot on the right."
   ]
  },
  {
   "cell_type": "markdown",
   "metadata": {},
   "source": [
    "![](../images/Notebook03/image02.png)"
   ]
  },
  {
   "cell_type": "markdown",
   "metadata": {},
   "source": [
    "Snapshot is great for backing up files. You can go here for a more thorough description on [EC2 Snapshots](https://docs.aws.amazon.com/AWSEC2/latest/UserGuide/EBSSnapshots.html).\n",
    "\n",
    "Let's create a snapshot. Just click on the hyperlink. We are directred to Snapshots section. Click Create Snapshot."
   ]
  },
  {
   "cell_type": "markdown",
   "metadata": {},
   "source": [
    "![](../images/Notebook03/image03.png)"
   ]
  },
  {
   "cell_type": "markdown",
   "metadata": {},
   "source": [
    "Fill in the necessary information. Then click Create Snapshot. We have successfully backed up our files. We'll come back and see how we create newer back ups on top of older ones, and going back to older backups and retrieve files from them."
   ]
  },
  {
   "cell_type": "markdown",
   "metadata": {},
   "source": [
    "![](../images/Notebook03/image04.png)"
   ]
  },
  {
   "cell_type": "markdown",
   "metadata": {},
   "source": [
    "Now, going back to storage memory problem. Go to Volumes again. Right click on the vol-0d31xx. Then click Modify volume. Put in the desired size for that EBS volume (notice that it can go as high as 16 Tb). I'm just going for  300 Gb for now."
   ]
  },
  {
   "cell_type": "markdown",
   "metadata": {},
   "source": [
    "![](../images/Notebook03/image05.png)"
   ]
  },
  {
   "cell_type": "markdown",
   "metadata": {},
   "source": [
    "Click Modify. You will be asked a few questions."
   ]
  },
  {
   "cell_type": "markdown",
   "metadata": {},
   "source": [
    "![](../images/Notebook03/image06.png)"
   ]
  },
  {
   "cell_type": "markdown",
   "metadata": {},
   "source": [
    "We might need to extend the file system to use the new space. Click Yes."
   ]
  },
  {
   "cell_type": "markdown",
   "metadata": {},
   "source": [
    "Now, run the instance. The notebook will be continued to [Notebook03-2](./Notebook03-2.ipynb), on the instance."
   ]
  }
 ],
 "metadata": {
  "kernelspec": {
   "display_name": "Python 3",
   "language": "python",
   "name": "python3"
  },
  "language_info": {
   "codemirror_mode": {
    "name": "ipython",
    "version": 3
   },
   "file_extension": ".py",
   "mimetype": "text/x-python",
   "name": "python",
   "nbconvert_exporter": "python",
   "pygments_lexer": "ipython3",
   "version": "3.7.1"
  }
 },
 "nbformat": 4,
 "nbformat_minor": 2
}
