{
 "cells": [
  {
   "cell_type": "markdown",
   "metadata": {},
   "source": [
    "# Jupyter Server"
   ]
  },
  {
   "cell_type": "markdown",
   "metadata": {},
   "source": [
    "Jupyter is great for narrative coding and interactive presentation using PyWidgets. I also used Jupyter a lot as a server accessible through web browser, which is much more convenient than basic ssh. I used it a lot to quickly view or transfer files like textfiles, pdf or figures, which is not directly possible with ssh.\n",
    "\n",
    "When we installed Anaconda, we installed a set of softwares including Jupyter, so we are only a few extra steps away. I used the [Jupyter server](https://jupyter-notebook.readthedocs.io/en/stable/public_server.html) documentation - but here is how it's done in AWS."
   ]
  },
  {
   "cell_type": "markdown",
   "metadata": {},
   "source": [
    "To make a connection to Jupyter server, we will need to designate a port and allow it in our instance.\n",
    "\n",
    "My instance is called \"zarulOwn\". Check the inbound rules - click on the instance, under Description tab, check Security groups, click inbound rules."
   ]
  },
  {
   "cell_type": "markdown",
   "metadata": {},
   "source": []
  },
  {
   "cell_type": "markdown",
   "metadata": {},
   "source": []
  },
  {
   "cell_type": "markdown",
   "metadata": {},
   "source": []
  },
  {
   "cell_type": "markdown",
   "metadata": {},
   "source": []
  },
  {
   "cell_type": "markdown",
   "metadata": {},
   "source": []
  },
  {
   "cell_type": "markdown",
   "metadata": {},
   "source": []
  },
  {
   "cell_type": "markdown",
   "metadata": {},
   "source": []
  },
  {
   "cell_type": "markdown",
   "metadata": {},
   "source": []
  },
  {
   "cell_type": "markdown",
   "metadata": {},
   "source": []
  },
  {
   "cell_type": "markdown",
   "metadata": {},
   "source": []
  }
 ],
 "metadata": {
  "kernelspec": {
   "display_name": "Bash",
   "language": "bash",
   "name": "bash"
  },
  "language_info": {
   "codemirror_mode": "shell",
   "file_extension": ".sh",
   "mimetype": "text/x-sh",
   "name": "bash"
  }
 },
 "nbformat": 4,
 "nbformat_minor": 2
}
