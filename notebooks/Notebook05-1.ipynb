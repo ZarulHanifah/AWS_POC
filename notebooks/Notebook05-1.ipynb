{
 "cells": [
  {
   "cell_type": "markdown",
   "metadata": {},
   "source": [
    "# Jupyter Server"
   ]
  },
  {
   "cell_type": "markdown",
   "metadata": {},
   "source": [
    "Jupyter is great for narrative coding and interactive presentation using PyWidgets. I also used Jupyter a lot as a server accessible through web browser, which is much more convenient than basic ssh. I used it a lot to quickly view or transfer files like textfiles, pdf or figures, which is not directly possible with ssh.\n",
    "\n",
    "When we installed Anaconda, we installed a set of softwares including Jupyter, so we are only a few extra steps away. I used the [Jupyter server](https://jupyter-notebook.readthedocs.io/en/stable/public_server.html) documentation - but here is how it's done in AWS."
   ]
  },
  {
   "cell_type": "markdown",
   "metadata": {},
   "source": [
    "To make a connection to Jupyter server, we will need to designate a port and allow it in our instance.\n",
    "\n",
    "My instance is called \"zarulOwn\". Check the inbound rules - click on the instance, under Description tab, check Security groups, click inbound rules."
   ]
  },
  {
   "cell_type": "markdown",
   "metadata": {},
   "source": [
    "![](../images/Notebook05-1/image01.png)"
   ]
  },
  {
   "cell_type": "markdown",
   "metadata": {},
   "source": [
    "As you can see, I have allowed port 22 (for ssh), and port 8000-9999. You can also see the ip address 0.0.0.0. It means, anyone in the world should be able to access to the instance if the person knows the address of our instance.\n",
    "\n",
    "This is definitely not something we can proud of ourselves as we are letting it openly vulnerable - however, for the sake of this tutorial, I am going to open the instance only for a short while."
   ]
  },
  {
   "cell_type": "markdown",
   "metadata": {},
   "source": [
    "Create a key and a certificate file. Run this:"
   ]
  },
  {
   "cell_type": "raw",
   "metadata": {},
   "source": [
    "openssl req -x509 -nodes -days 365 -newkey rsa:2048 -keyout .mykey.key -out .mycert.pem"
   ]
  },
  {
   "cell_type": "markdown",
   "metadata": {},
   "source": [
    "You will be given a few questions, answer them. I like to make my file system cleaner, so I hide my keys and cert file by  adding a period at the front of the filename."
   ]
  },
  {
   "cell_type": "markdown",
   "metadata": {},
   "source": [
    "Generate a Jupyter config file."
   ]
  },
  {
   "cell_type": "raw",
   "metadata": {},
   "source": [
    "jupyter notebook --generate-config"
   ]
  },
  {
   "cell_type": "markdown",
   "metadata": {},
   "source": [
    "By default, a file will be generated - <pre>/home/zarul/.jupyter/jupyter_notebook_config.py</pre>\n",
    "\n",
    "The config file will have a lot of options that were commented out.\n",
    "<pre>\n",
    "## The Logging format template\n",
    "#c.Application.log_format = '[%(name)s]%(highlevel)s %(message)s'\n",
    "\n",
    "## Set the log level by value or name.\n",
    "#c.Application.log_level = 30\n",
    "\n",
    "#------------------------------------------------------------------------------\n",
    "# JupyterApp(Application) configuration\n",
    "#------------------------------------------------------------------------------\n",
    "\n",
    "## Base class for Jupyter applications\n",
    "\n",
    "## Answer yes to any prompts.\n",
    "#c.JupyterApp.answer_yes = False\n",
    "\n",
    "## Full path of a config file.\n",
    "#c.JupyterApp.config_file = ''\n",
    "...\n",
    "</pre>\n",
    "\n",
    "Based on the documentation, there are certain lines that you have to comment out... To make things easier, just append these lines into the file - run the script below."
   ]
  },
  {
   "cell_type": "raw",
   "metadata": {},
   "source": [
    "echo \"\n",
    "# Appending lines\n",
    "c.NotebookApp.certfile = \"$HOME/.mycert.pem\"\n",
    "c.NotebookApp.keyfile = \"$HOME/.mykey.key\"\n",
    "c.NotebookApp.ip = '*'                               # means accessible to all ip addresses\n",
    "c.NotebookApp.open_browser = False\n",
    "c.NotebookApp.allow_remote_access = True\n",
    "c.NotebookApp.port = 9999\n",
    "\" >> $HOME/.jupyter/jupyter_notebook_config.py"
   ]
  },
  {
   "cell_type": "markdown",
   "metadata": {},
   "source": [
    "Notice that we will be using port 9999 as default port. Generate a password for Jupyter. You will be asked a password to get into Jupyter server."
   ]
  },
  {
   "cell_type": "raw",
   "metadata": {},
   "source": [
    "jupyter notebook password"
   ]
  },
  {
   "cell_type": "markdown",
   "metadata": {},
   "source": [
    "Type in your desired password, and confirm it.\n",
    "\n",
    "Now, lets run Jupyter. You can either open it as \"jupyter notebook\" or \"jupyter lab\", each with their own interface. I like jupyter lab."
   ]
  },
  {
   "cell_type": "markdown",
   "metadata": {},
   "source": [
    "![](../images/Notebook05-1/image02.png)"
   ]
  },
  {
   "cell_type": "markdown",
   "metadata": {},
   "source": [
    "Go to your favourite web browser. Then, access Jupyter by typing out:\n",
    "\n",
    "<pre>https://[ip address or DNS of your instance]:[port to access Jupyter]</pre>"
   ]
  },
  {
   "cell_type": "markdown",
   "metadata": {},
   "source": [
    "You= might be prompted to this window, warning about privacy error. Make sure that it is indeed the address where we hosted Jupyter."
   ]
  },
  {
   "cell_type": "markdown",
   "metadata": {},
   "source": [
    "![](../images/Notebook05-1/image03.png)"
   ]
  },
  {
   "cell_type": "markdown",
   "metadata": {},
   "source": [
    "Click on Advanced, then click proceed to the instance."
   ]
  },
  {
   "cell_type": "markdown",
   "metadata": {},
   "source": [
    "![](../images/Notebook05-1/image04.png)"
   ]
  },
  {
   "cell_type": "markdown",
   "metadata": {},
   "source": [
    "This opens."
   ]
  },
  {
   "cell_type": "markdown",
   "metadata": {},
   "source": [
    "![](../images/Notebook05-1/image05.png)"
   ]
  },
  {
   "cell_type": "markdown",
   "metadata": {},
   "source": [
    "Key in your password."
   ]
  },
  {
   "cell_type": "markdown",
   "metadata": {},
   "source": [
    "![](../images/Notebook05-1/image06.png)"
   ]
  },
  {
   "cell_type": "markdown",
   "metadata": {},
   "source": [
    "And there you go. You can create a notebook with a Python kernel. To have a bash kernel, you might want to install from [Thomas Kluyver's repo](https://github.com/takluyver/bash_kernel). We also can open a terminal from Jupyter. Jupyter has a nice navigation on the side so it's easier to navigate yourself. And tabs, of different things, placed however you like - something that is missing with ssh connection!\n",
    "\n",
    "![](../images/Notebook05-1/image07.png)\n",
    "\n",
    "This is installed from our conda base environment. If you have another environment and you want to open Jupyter there, you will need to install Jupyter there and also do the necessary configurations there as well - you can still use the same key and cert file."
   ]
  }
 ],
 "metadata": {
  "kernelspec": {
   "display_name": "Bash",
   "language": "bash",
   "name": "bash"
  },
  "language_info": {
   "codemirror_mode": "shell",
   "file_extension": ".sh",
   "mimetype": "text/x-sh",
   "name": "bash"
  }
 },
 "nbformat": 4,
 "nbformat_minor": 2
}
