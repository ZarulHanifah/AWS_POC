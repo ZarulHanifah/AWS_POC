{
 "cells": [
  {
   "cell_type": "markdown",
   "metadata": {},
   "source": [
    "# Mounting S3 into EC2 instance"
   ]
  },
  {
   "cell_type": "markdown",
   "metadata": {},
   "source": [
    "Amazon S3 is amazing due to how easy it is for data sharing. It is also scalable, so you don't have to determine the amount of storage required beforehand.\n",
    "\n",
    "We can access S3 from an EC2 instance using AWS CLI. However, it would be much easier if we can mount S3 onto the EC2 instance, so it would be like a filesystem and it would not feel any different from using EBS. We can get into the bucket, list it and copy/move files - something which would take a lot more effort with AWS CLI or through the S3 console.\n",
    "\n",
    "We will use S3Fs, the software that we will be using to mount S3 into EC2. So first, install S3Fs -that is possible using the apt package manager, or through conda."
   ]
  },
  {
   "cell_type": "markdown",
   "metadata": {},
   "source": []
  },
  {
   "cell_type": "markdown",
   "metadata": {},
   "source": []
  },
  {
   "cell_type": "markdown",
   "metadata": {},
   "source": []
  },
  {
   "cell_type": "markdown",
   "metadata": {},
   "source": []
  },
  {
   "cell_type": "markdown",
   "metadata": {},
   "source": []
  }
 ],
 "metadata": {
  "kernelspec": {
   "display_name": "Bash",
   "language": "bash",
   "name": "bash"
  },
  "language_info": {
   "codemirror_mode": "shell",
   "file_extension": ".sh",
   "mimetype": "text/x-sh",
   "name": "bash"
  }
 },
 "nbformat": 4,
 "nbformat_minor": 2
}
