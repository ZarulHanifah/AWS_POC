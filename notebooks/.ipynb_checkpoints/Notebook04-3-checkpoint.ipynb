{
 "cells": [
  {
   "cell_type": "markdown",
   "metadata": {},
   "source": [
    "# Assessing <em>E. coli</em> genome assemblies"
   ]
  },
  {
   "cell_type": "markdown",
   "metadata": {},
   "source": [
    "This notebook doesn't really touch on AWS concepts, we are just briefly going through the performance of the assembly by looking at the general statistics - how many contigs, how long is the N50 value. [Mikhael Kolmogorov](https://www.youtube.com/watch?v=1N0geEnFzKo) did a wonderful presentation on how graph assembly is an overlooked element of genome assembly, which is very instrumental to assess the assembly and to plan follow up resequencing - watch the video!\n",
    "\n",
    "As seen in Notebook04-2, I did accidentally terminated my instance - a silly mistake. So, I repeated the analysis on our local HPC, for free. So, AWS is not the only way to do our analysis. For free computing, we'll go with HPC. For freedom of scaling computational power, without having to queue with other HPC users, probably AWS then.\n",
    "\n",
    "All the assemblies (Illumina only, Nanopore only, Hybrid) were done using [Unicycler](https://github.com/rrwick/Unicycler). Then, the visualization was done using [Bandage](https://github.com/rrwick/Bandage)."
   ]
  },
  {
   "cell_type": "markdown",
   "metadata": {},
   "source": [
    "Here is the basic statistics for *Illumina only* assembly."
   ]
  },
  {
   "cell_type": "markdown",
   "metadata": {},
   "source": [
    "![](../images/Notebook04-3/image01.png)"
   ]
  },
  {
   "cell_type": "markdown",
   "metadata": {},
   "source": [
    "Okay, so there are 197 contigs (nodes). There are 280 edges - edge represents possible connections between contigs. The total length is around 4.5 Mb, and the expected genome size is 4,630,614 - the genome size of *Escherichia coli* str. K-12 substr. MG1655 is 4.64 Mb. There are 5 dead ends, which is decent - the lower the better. N50 is 125,238 bp. The longest contig was 223,820 bp.\n",
    "\n",
    "Here is how the graph assembly looks like. Looking at the graph, we can see that the nodes were clustered to a few hubs, most probably because of largely occuring repeats."
   ]
  },
  {
   "cell_type": "markdown",
   "metadata": {},
   "source": [
    "![](../images/Notebook04-3/image02.png)"
   ]
  },
  {
   "cell_type": "markdown",
   "metadata": {},
   "source": [
    "Long reads can span across these repeats, giving better assembly results. Here is the basic statistics for *Nanopore only* assembly."
   ]
  },
  {
   "cell_type": "markdown",
   "metadata": {},
   "source": [
    "![](../images/Notebook04-3/image03.png)"
   ]
  },
  {
   "cell_type": "markdown",
   "metadata": {},
   "source": [
    "Wow! Just one contig - a feat that scientists would only dream of before long reads were around. The estimated sequence length (4.22 Mb) is also much shorter than the actual genome size. Here is the assembly graph."
   ]
  },
  {
   "cell_type": "markdown",
   "metadata": {},
   "source": [
    "![](../images/Notebook04-3/image04.png)"
   ]
  },
  {
   "cell_type": "markdown",
   "metadata": {},
   "source": [
    "Weird, it doesn't circularize. Does this assembly suffer from the higher error rate of long reads.\n",
    "\n",
    "For an even better assembly, we can use a hybrid assembly approach, leveraging short reads for higher quality scores and long reads for better contiguity. Here is the basic statistics for *hybrid* assembly."
   ]
  },
  {
   "cell_type": "markdown",
   "metadata": {},
   "source": [
    "![](../images/Notebook04-3/image05.png)"
   ]
  },
  {
   "cell_type": "markdown",
   "metadata": {},
   "source": [
    "That is more like it! The genome size is very very close to what was reported in NCBI Genome. Here is the assembly graph."
   ]
  },
  {
   "cell_type": "markdown",
   "metadata": {},
   "source": [
    "![](../images/Notebook04-3/image06.png)"
   ]
  },
  {
   "cell_type": "markdown",
   "metadata": {},
   "source": [
    "Beautiful."
   ]
  }
 ],
 "metadata": {
  "kernelspec": {
   "display_name": "Bash",
   "language": "bash",
   "name": "bash"
  },
  "language_info": {
   "codemirror_mode": "shell",
   "file_extension": ".sh",
   "mimetype": "text/x-sh",
   "name": "bash"
  }
 },
 "nbformat": 4,
 "nbformat_minor": 2
}
