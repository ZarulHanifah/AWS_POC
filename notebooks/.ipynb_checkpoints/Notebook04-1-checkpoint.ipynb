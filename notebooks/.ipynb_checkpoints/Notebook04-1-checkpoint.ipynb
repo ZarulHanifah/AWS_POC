{
 "cells": [
  {
   "cell_type": "markdown",
   "metadata": {},
   "source": [
    "# Setting up a new instance"
   ]
  },
  {
   "cell_type": "markdown",
   "metadata": {},
   "source": [
    "Just ssh into the instance. Clone the AWS_POC repository and run two helper scripts that I've created, setup.sh and unic.sh."
   ]
  },
  {
   "cell_type": "markdown",
   "metadata": {},
   "source": [
    "Well, so far so good. We have spawned a powerful instance for a cheaper price. Let's check out the cpu, ram and storage."
   ]
  },
  {
   "cell_type": "code",
   "execution_count": 8,
   "metadata": {},
   "outputs": [
    {
     "name": "stdout",
     "output_type": "stream",
     "text": [
      "Architecture:        x86_64\n",
      "CPU op-mode(s):      32-bit, 64-bit\n",
      "Byte Order:          Little Endian\n",
      "CPU(s):              64\n",
      "On-line CPU(s) list: 0-63\n",
      "Thread(s) per core:  2\n",
      "Core(s) per socket:  16\n",
      "Socket(s):           2\n",
      "NUMA node(s):        2\n",
      "Vendor ID:           GenuineIntel\n",
      "CPU family:          6\n",
      "Model:               79\n",
      "Model name:          Intel(R) Xeon(R) CPU E5-2686 v4 @ 2.30GHz\n",
      "Stepping:            1\n",
      "CPU MHz:             1797.172\n",
      "CPU max MHz:         3000.0000\n",
      "CPU min MHz:         1200.0000\n",
      "BogoMIPS:            4600.13\n",
      "Hypervisor vendor:   Xen\n",
      "Virtualization type: full\n",
      "L1d cache:           32K\n",
      "L1i cache:           32K\n",
      "L2 cache:            256K\n",
      "L3 cache:            46080K\n",
      "NUMA node0 CPU(s):   0-15,32-47\n",
      "NUMA node1 CPU(s):   16-31,48-63\n",
      "Flags:               fpu vme de pse tsc msr pae mce cx8 apic sep mtrr pge mca cmov pat pse36 clflush mmx fxsr sse sse2 ht syscall nx pdpe1gb rdtscp lm constant_tsc arch_perfmon rep_good nopl xtopology nonstop_tsc cpuid aperfmperf pni pclmulqdq monitor est ssse3 fma cx16 pcid sse4_1 sse4_2 x2apic movbe popcnt tsc_deadline_timer aes xsave avx f16c rdrand hypervisor lahf_lm abm 3dnowprefetch cpuid_fault invpcid_single pti fsgsbase bmi1 hle avx2 smep bmi2 erms invpcid rtm rdseed adx xsaveopt ida\n"
     ]
    }
   ],
   "source": [
    "lscpu"
   ]
  },
  {
   "cell_type": "code",
   "execution_count": 9,
   "metadata": {},
   "outputs": [
    {
     "name": "stdout",
     "output_type": "stream",
     "text": [
      "              total        used        free      shared  buff/cache   available\n",
      "Mem:           480G        727M        472G        1.0M        7.1G        476G\n",
      "Swap:            0B          0B          0B\n"
     ]
    }
   ],
   "source": [
    "free -h"
   ]
  },
  {
   "cell_type": "code",
   "execution_count": 10,
   "metadata": {},
   "outputs": [
    {
     "name": "stdout",
     "output_type": "stream",
     "text": [
      "NAME    MAJ:MIN   RM  SIZE RO TYPE MOUNTPOINT\n",
      "loop0     7:0      0 87.9M  1 loop /snap/core/5328\n",
      "loop1     7:1      0 12.7M  1 loop /snap/amazon-ssm-agent/495\n",
      "xvda    202:0      0    8G  0 disk \n",
      "└─xvda1 202:1      0    8G  0 part /\n",
      "xvdba   202:13312  0  200G  0 disk \n"
     ]
    }
   ],
   "source": [
    "lsblk"
   ]
  },
  {
   "cell_type": "markdown",
   "metadata": {},
   "source": [
    "Very good! Remember that we added an extra 200 Gb - that's xvdba. However,  it is not yet mounted - see the mountpoint."
   ]
  },
  {
   "cell_type": "code",
   "execution_count": 12,
   "metadata": {},
   "outputs": [
    {
     "name": "stdout",
     "output_type": "stream",
     "text": [
      "/dev/xvdba: data\n"
     ]
    }
   ],
   "source": [
    "sudo file -s /dev/xvdba"
   ]
  },
  {
   "cell_type": "markdown",
   "metadata": {},
   "source": [
    "As shown above, the EBS has no filesystem yet. Otherwise, it would show more information about the filesystem. Make the filesystem."
   ]
  },
  {
   "cell_type": "code",
   "execution_count": 13,
   "metadata": {},
   "outputs": [
    {
     "name": "stdout",
     "output_type": "stream",
     "text": [
      "mke2fs 1.44.1 (24-Mar-2018)\n",
      "Creating filesystem with 52428800 4k blocks and 13107200 inodes\n",
      "Filesystem UUID: 12e1f0e1-81fb-4bb6-9e22-59fd5f72bfef\n",
      "Superblock backups stored on blocks: \n",
      "\t32768, 98304, 163840, 229376, 294912, 819200, 884736, 1605632, 2654208, \n",
      "\t4096000, 7962624, 11239424, 20480000, 23887872\n",
      "\n",
      "Allocating group tables:    0/160        done                            \n",
      "Writing inode tables:    0/160        done                            \n",
      "Creating journal (262144 blocks): done\n",
      "Writing superblocks and filesystem accounting information:    0/160        done\n",
      "\n"
     ]
    }
   ],
   "source": [
    "sudo mkfs.ext4 /dev/xvdba"
   ]
  },
  {
   "cell_type": "markdown",
   "metadata": {},
   "source": [
    "Now, create a directory, then mount the drive on to it."
   ]
  },
  {
   "cell_type": "code",
   "execution_count": 17,
   "metadata": {},
   "outputs": [],
   "source": [
    "mkdir EColi\n",
    "sudo mount /dev/xvdba EColi"
   ]
  },
  {
   "cell_type": "code",
   "execution_count": 19,
   "metadata": {},
   "outputs": [
    {
     "name": "stdout",
     "output_type": "stream",
     "text": [
      "NAME    MAJ:MIN   RM  SIZE RO TYPE MOUNTPOINT\n",
      "loop0     7:0      0 87.9M  1 loop /snap/core/5328\n",
      "loop1     7:1      0 12.7M  1 loop /snap/amazon-ssm-agent/495\n",
      "xvda    202:0      0    8G  0 disk \n",
      "└─xvda1 202:1      0    8G  0 part /\n",
      "xvdba   202:13312  0  200G  0 disk /home/ubuntu/EColi\n"
     ]
    }
   ],
   "source": [
    "lsblk"
   ]
  },
  {
   "cell_type": "markdown",
   "metadata": {},
   "source": [
    "Okay, good. We now have a directory called EColi. That is where we are going to do all our work with Unicycler. Remember about the 8Gb xvda drive? Well, all the other prior softwares, like Anaconda, were installed there - just so you know."
   ]
  },
  {
   "cell_type": "markdown",
   "metadata": {},
   "source": [
    "Everytime we reboot this instance, we will need to repeat this ritual of mounting this drive - which is tedious. Simply add the line to our .bashrc file. For some reason, you need to sudo this, otherwise, only xvda1 would be shown."
   ]
  },
  {
   "cell_type": "code",
   "execution_count": 25,
   "metadata": {},
   "outputs": [
    {
     "name": "stdout",
     "output_type": "stream",
     "text": [
      "/dev/xvda1: LABEL=\"cloudimg-rootfs\" UUID=\"bbf64c6d-bc15-4ae0-aa4c-608fd9820d95\" TYPE=\"ext4\" PARTUUID=\"9f3e4931-01\"\n",
      "/dev/loop0: TYPE=\"squashfs\"\n",
      "/dev/loop1: TYPE=\"squashfs\"\n",
      "/dev/xvdba: UUID=\"12e1f0e1-81fb-4bb6-9e22-59fd5f72bfef\" TYPE=\"ext4\"\n"
     ]
    }
   ],
   "source": [
    "sudo blkid"
   ]
  },
  {
   "cell_type": "markdown",
   "metadata": {},
   "source": [
    "Edit the /etc/fstab file - there is where supposedly all the mounting is listed. The fields are the UUID value returned by blkid, the mount point, the file system, and the recommended file system mount options (copied from [AWS](https://docs.aws.amazon.com/AWSEC2/latest/UserGuide/ebs-using-volumes.html)). Here is how it looks like after adding our device."
   ]
  },
  {
   "cell_type": "code",
   "execution_count": 26,
   "metadata": {},
   "outputs": [
    {
     "name": "stdout",
     "output_type": "stream",
     "text": [
      "LABEL=cloudimg-rootfs\t/\t ext4\tdefaults,discard\t0 0\n",
      "UUID=12e1f0e1-81fb-4bb6-9e22-59fd5f72bfef  /home/ubuntu/EColi  ext4  defaults,nofail  0  2\n"
     ]
    }
   ],
   "source": [
    "cat /etc/fstab"
   ]
  },
  {
   "cell_type": "markdown",
   "metadata": {},
   "source": [
    "This is how to check if it works. If it isn't we will receive an error message."
   ]
  },
  {
   "cell_type": "code",
   "execution_count": 28,
   "metadata": {},
   "outputs": [],
   "source": [
    "sudo umount /home/ubuntu/EColi\n",
    "sudo mount -a"
   ]
  },
  {
   "cell_type": "markdown",
   "metadata": {},
   "source": [
    "Nice. Next, we'll continue with Unicycler."
   ]
  }
 ],
 "metadata": {
  "kernelspec": {
   "display_name": "Bash",
   "language": "bash",
   "name": "bash"
  },
  "language_info": {
   "codemirror_mode": "shell",
   "file_extension": ".sh",
   "mimetype": "text/x-sh",
   "name": "bash"
  }
 },
 "nbformat": 4,
 "nbformat_minor": 2
}
