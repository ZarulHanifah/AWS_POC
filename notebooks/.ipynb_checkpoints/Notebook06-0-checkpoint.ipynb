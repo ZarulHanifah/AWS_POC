{
 "cells": [
  {
   "cell_type": "markdown",
   "metadata": {},
   "source": [
    "# Getting started with AWS S3"
   ]
  },
  {
   "cell_type": "markdown",
   "metadata": {},
   "source": [
    "AWS S3 is a data storage service which is cheaper than the EC2 EBS storage. In this tutorial, we are going to explore the different ways of using S3, either from our local computer, or mounting it on EC2, etc. We will also touch briefly on the IAM role that has to be attached to EC2 and S3 to enable communication between these two services."
   ]
  },
  {
   "cell_type": "markdown",
   "metadata": {},
   "source": [
    "### Initiating S3 buckets"
   ]
  },
  {
   "cell_type": "markdown",
   "metadata": {},
   "source": [
    "Go to AWS S3 dashboard."
   ]
  },
  {
   "cell_type": "markdown",
   "metadata": {},
   "source": [
    "![](../images/Notebook06-0/image01.png)"
   ]
  },
  {
   "cell_type": "markdown",
   "metadata": {},
   "source": [
    "Click Create bucket. Give the bucket a name."
   ]
  },
  {
   "cell_type": "markdown",
   "metadata": {},
   "source": [
    "![](../images/Notebook06-0/image02.png)"
   ]
  },
  {
   "cell_type": "markdown",
   "metadata": {},
   "source": [
    "Make changes that you'd like to apply on your bucket - I am happy with the default options, so I clicked Create bucket."
   ]
  },
  {
   "cell_type": "markdown",
   "metadata": {},
   "source": [
    "![](../images/Notebook06-0/image03.png)"
   ]
  },
  {
   "cell_type": "markdown",
   "metadata": {},
   "source": [
    "Click on the bucket we just created (the link on the name). Then click on Upload and add your files."
   ]
  },
  {
   "cell_type": "markdown",
   "metadata": {},
   "source": [
    "![](../images/Notebook06-0/image04.png)"
   ]
  },
  {
   "cell_type": "markdown",
   "metadata": {},
   "source": [
    "Click upload. Here I have uploaded a list of URL links of Pacbio data of the golden eagle."
   ]
  },
  {
   "cell_type": "markdown",
   "metadata": {},
   "source": [
    "![](../images/Notebook06-0/image05.png)"
   ]
  },
  {
   "cell_type": "markdown",
   "metadata": {},
   "source": [
    "Nice. By the way, if we go back to the S3 dashboard, we can learn more about the bucket by clicking on it. "
   ]
  },
  {
   "cell_type": "markdown",
   "metadata": {},
   "source": [
    "![](../images/Notebook06-0/image06.png)"
   ]
  },
  {
   "cell_type": "markdown",
   "metadata": {},
   "source": [
    "It is also possible to transfer files through the command line. That requires a bit of familiarity with AWS CLI interface, obtaining *Access key ID* and *Secret access key* and configurating the environmental variables. [Maximillian](https://www.youtube.com/watch?v=9CKsX6MOPDQ&list=PL55RiY5tL51pgPovJKg6HFMFqiGNSZtQ5&index=3) did an amazing job on introducing IAM concepts, you should check it out.\n",
    "\n",
    "Here is a sample on using AWS commands on the terminal - you can get them through conda: *conda install awscli*. This time, I am transferring a URL list of HiseqX10 files."
   ]
  },
  {
   "cell_type": "code",
   "execution_count": 11,
   "metadata": {},
   "outputs": [
    {
     "name": "stdout",
     "output_type": "stream",
     "text": [
      "Copying /home/zarul/Zarul/eagle/hiseqXten_url.txt to mumgf-eagle01//hiseqXten_url.txt\n",
      "(awsc) "
     ]
    },
    {
     "ename": "",
     "evalue": "1",
     "execution_count": 11,
     "output_type": "error",
     "traceback": []
    }
   ],
   "source": [
    "s3put --bucket mumgf-eagle01 \\\n",
    " --prefix /home/zarul/Zarul/eagle/ \\\n",
    " --region ap-southeast-1 \\\n",
    " /home/zarul/Zarul/eagle/hiseqXten_url.txt "
   ]
  },
  {
   "cell_type": "markdown",
   "metadata": {},
   "source": [
    "Okay. Let's see our bucket in S3 dashboard."
   ]
  },
  {
   "cell_type": "markdown",
   "metadata": {},
   "source": [
    "![](../images/Notebook06-0/image07.png)"
   ]
  },
  {
   "cell_type": "markdown",
   "metadata": {},
   "source": [
    "Yes!"
   ]
  },
  {
   "cell_type": "markdown",
   "metadata": {},
   "source": [
    "### Baby steps to IAM"
   ]
  },
  {
   "cell_type": "markdown",
   "metadata": {},
   "source": [
    "IAM is used to give permissions to users or services. In this case, if we have a file in our EC2 instance, we need to give EC2 an __IAM role__ so that it has permission to gain access to S3.  "
   ]
  },
  {
   "cell_type": "markdown",
   "metadata": {},
   "source": []
  }
 ],
 "metadata": {
  "kernelspec": {
   "display_name": "Bash",
   "language": "bash",
   "name": "bash"
  },
  "language_info": {
   "codemirror_mode": "shell",
   "file_extension": ".sh",
   "mimetype": "text/x-sh",
   "name": "bash"
  }
 },
 "nbformat": 4,
 "nbformat_minor": 2
}
