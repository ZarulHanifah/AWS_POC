{
 "cells": [
  {
   "cell_type": "markdown",
   "metadata": {},
   "source": [
    "# Set billing alarm"
   ]
  },
  {
   "cell_type": "markdown",
   "metadata": {},
   "source": [
    "Billing is one of the main concerns in using cloud computing services. AWS charges clients principally by three services - computing power, storage and outbound file transfer.\n",
    "\n",
    "Let's say if we forgot a running EC2 instance, or have forgotten of a storage, and only realised when the AWS cost has accumulated into a hefty sum. We can prevent all this by setting an AWS billing alarm. Here is the [tutorial made by AWS](https://docs.aws.amazon.com/AmazonCloudWatch/latest/monitoring/monitor_estimated_charges_with_cloudwatch.html), but I'm only going to touch on the billing alarm."
   ]
  },
  {
   "cell_type": "markdown",
   "metadata": {},
   "source": [
    "Start with enabling billing alerts. Go to [AWS](aws.amazon.com) and log into your console. Then go to your Account information and click My Billing Dashboard."
   ]
  },
  {
   "cell_type": "markdown",
   "metadata": {},
   "source": [
    "![](../images/Notebook02/image01.png)"
   ]
  },
  {
   "cell_type": "markdown",
   "metadata": {},
   "source": [
    "Then on the navigation pane under Preferences section, go to Billing preferences. Enable Receive Billing Alerts, then click Save preferences. It's our first time doing so, it will take ~15 minutes before we can set a billing alarm."
   ]
  },
  {
   "cell_type": "markdown",
   "metadata": {},
   "source": [
    "![](../images/Notebook02/image02.png)"
   ]
  },
  {
   "cell_type": "markdown",
   "metadata": {},
   "source": [
    "Now, go back to the list of Services. Click Cloudwatch under Management & Governance."
   ]
  },
  {
   "cell_type": "markdown",
   "metadata": {},
   "source": [
    "![](../images/Notebook02/image03.png)"
   ]
  },
  {
   "cell_type": "markdown",
   "metadata": {},
   "source": [
    "For some reason, you can only use CloudWatch when we are using it in US East (N. Virginia) region. Don't worry, just switch our region to US East N. Virginia."
   ]
  },
  {
   "cell_type": "markdown",
   "metadata": {},
   "source": [
    "![](../images/Notebook02/image04.png)"
   ]
  },
  {
   "cell_type": "markdown",
   "metadata": {},
   "source": [
    "In the navigation pane, click Billing under Alarms section. Then click Create Alarm button."
   ]
  },
  {
   "cell_type": "markdown",
   "metadata": {},
   "source": [
    "![](../images/Notebook02/image05.png)"
   ]
  },
  {
   "cell_type": "markdown",
   "metadata": {},
   "source": [
    "Select metric - choose Billing, Total Estimated, select USD and then click Select Metric. Under billing alarm, define your spending threshold. For the sake of the tutorial, I am just going to put 1 USD. I'll also put my email address for the alarm notification. Then click Create Alarm."
   ]
  },
  {
   "cell_type": "markdown",
   "metadata": {},
   "source": [
    "![](../images/Notebook02/image06.png)"
   ]
  },
  {
   "cell_type": "markdown",
   "metadata": {},
   "source": [
    "AWS will send you an email notification to confirm your email address. View your email, confirm your subscription. Then click View Alarm."
   ]
  },
  {
   "cell_type": "markdown",
   "metadata": {},
   "source": [
    "![](../images/Notebook02/image07.png)"
   ]
  },
  {
   "cell_type": "markdown",
   "metadata": {},
   "source": [
    "Let's test this. I'm going to use an EC2 instance. Make sure to change your AWS region - I'm going back to Singapore. I'm going to use the i3.4xlarge (during the time of writing, the on-demand hourly cost of an i3.4xlarge is $1.4960). I'm also going to use the Deep Learning Base AMI (Ubuntu) Version 17.0, just for fun. We'll launch our instance.\n",
    "\n",
    "* you can actually use this AMI in the cloud without the hassle of configuring your hardware and drivers."
   ]
  },
  {
   "cell_type": "markdown",
   "metadata": {},
   "source": [
    "![](../images/Notebook02/image08.png)"
   ]
  },
  {
   "cell_type": "markdown",
   "metadata": {},
   "source": [
    "Let's try connecting to the instance."
   ]
  },
  {
   "cell_type": "markdown",
   "metadata": {},
   "source": [
    "![](../images/Notebook02/image09.png)"
   ]
  },
  {
   "cell_type": "markdown",
   "metadata": {},
   "source": [
    "Cool! Now, let's check our billing."
   ]
  },
  {
   "cell_type": "raw",
   "metadata": {},
   "source": [
    "# check billing after 6 hours"
   ]
  },
  {
   "cell_type": "markdown",
   "metadata": {},
   "source": []
  },
  {
   "cell_type": "markdown",
   "metadata": {},
   "source": []
  },
  {
   "cell_type": "markdown",
   "metadata": {},
   "source": []
  },
  {
   "cell_type": "markdown",
   "metadata": {},
   "source": []
  }
 ],
 "metadata": {
  "kernelspec": {
   "display_name": "Python 3",
   "language": "python",
   "name": "python3"
  },
  "language_info": {
   "codemirror_mode": {
    "name": "ipython",
    "version": 3
   },
   "file_extension": ".py",
   "mimetype": "text/x-python",
   "name": "python",
   "nbconvert_exporter": "python",
   "pygments_lexer": "ipython3",
   "version": "3.7.1"
  }
 },
 "nbformat": 4,
 "nbformat_minor": 2
}
