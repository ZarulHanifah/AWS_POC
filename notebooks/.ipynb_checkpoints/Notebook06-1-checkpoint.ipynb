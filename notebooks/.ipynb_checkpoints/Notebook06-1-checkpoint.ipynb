{
 "cells": [
  {
   "cell_type": "markdown",
   "metadata": {},
   "source": [
    "# Transferring files in S3"
   ]
  },
  {
   "cell_type": "markdown",
   "metadata": {},
   "source": [
    "### Transferring between EC2 and S3"
   ]
  },
  {
   "cell_type": "markdown",
   "metadata": {},
   "source": [
    "We have explored S3 quite a bit. We can use S3 with EC2, that way we can save some space in EBS. And if we decided to terminate our EC2 instance, storing into S3 would be very convenient.\n",
    "\n",
    "Before anything, we have to assign an IAM role to our EC2 for access to S3 - I am giving full access to it. First, go to IAM dashboard."
   ]
  },
  {
   "cell_type": "raw",
   "metadata": {},
   "source": [
    "![](../images/Notebook06-1/image01.png)"
   ]
  },
  {
   "cell_type": "markdown",
   "metadata": {},
   "source": [
    "Click Roles on the navigation pane."
   ]
  },
  {
   "cell_type": "raw",
   "metadata": {},
   "source": [
    "![](../images/Notebook06-1/image02.png)"
   ]
  },
  {
   "cell_type": "markdown",
   "metadata": {},
   "source": [
    "Click Create Role."
   ]
  },
  {
   "cell_type": "raw",
   "metadata": {},
   "source": [
    "![](../images/Notebook06-1/image03.png)"
   ]
  },
  {
   "cell_type": "markdown",
   "metadata": {},
   "source": [
    "Choose  the service that will use this a role. We are going to use EC2 to access S3, so EC2 will be needing a role. Click EC2, then click Next: Permissions."
   ]
  },
  {
   "cell_type": "raw",
   "metadata": {},
   "source": [
    "![](../images/Notebook06-1/image04.png)"
   ]
  },
  {
   "cell_type": "markdown",
   "metadata": {},
   "source": [
    "There are hundreds of policy in AWS. Type in S3 in the entry box, and choose the relevant policy. I am going to choose AmazonS3FullAccess. Click on the link to learn more about the policy. If you are happy with it, check the tickbox beside it. Then, click Next:Tags."
   ]
  },
  {
   "cell_type": "raw",
   "metadata": {},
   "source": [
    "![](../images/Notebook06-1/image05.png)"
   ]
  },
  {
   "cell_type": "markdown",
   "metadata": {},
   "source": [
    "I am just going to skip Tags; it is useful for tracing back services, especially if you deployed many services at a time. Click Next:Review. Then fill in the required information remaining. I'm going to name it *ec2_to_s3*. Click Create role."
   ]
  },
  {
   "cell_type": "raw",
   "metadata": {},
   "source": [
    "![](../images/Notebook06-1/image06.png)"
   ]
  },
  {
   "cell_type": "markdown",
   "metadata": {},
   "source": [
    "After creating the role, let's attach it to our instance. Go to our EC2 Instances dashboard. Right click on our instance, hover over Instance Settings and click on Attach/Replace IAM Role."
   ]
  },
  {
   "cell_type": "raw",
   "metadata": {},
   "source": [
    "![](../images/Notebook06-1/image07.png)"
   ]
  },
  {
   "cell_type": "markdown",
   "metadata": {},
   "source": [
    "Choose the newly created IAM role: ec2_to_s3."
   ]
  },
  {
   "cell_type": "raw",
   "metadata": {},
   "source": [
    "![](../images/Notebook06-1/image08.png)"
   ]
  },
  {
   "cell_type": "markdown",
   "metadata": {},
   "source": [
    "Click Apply."
   ]
  },
  {
   "cell_type": "markdown",
   "metadata": {},
   "source": [
    "At last. Let's try getting the *hiseqXten_url.txt* from S3. This is achievable with the AWS CLI. Let's see what buckets we have."
   ]
  },
  {
   "cell_type": "code",
   "execution_count": 10,
   "metadata": {},
   "outputs": [
    {
     "name": "stdout",
     "output_type": "stream",
     "text": [
      "2019-05-08 16:56:00 mumgf-eagle01\n"
     ]
    }
   ],
   "source": [
    "aws s3 ls"
   ]
  },
  {
   "cell_type": "markdown",
   "metadata": {},
   "source": [
    "Correct! What is inside that bucket?"
   ]
  },
  {
   "cell_type": "code",
   "execution_count": 11,
   "metadata": {},
   "outputs": [
    {
     "name": "stdout",
     "output_type": "stream",
     "text": [
      "2019-05-08 17:41:29        158 hiseqXten_url.txt\n",
      "2019-05-08 17:01:06       1376 sequel_url.txt\n"
     ]
    }
   ],
   "source": [
    "aws s3 ls mumgf-eagle01"
   ]
  },
  {
   "cell_type": "markdown",
   "metadata": {},
   "source": [
    "Nice. Now, lets copy *hiseqXten_url.txt*."
   ]
  },
  {
   "cell_type": "code",
   "execution_count": 18,
   "metadata": {},
   "outputs": [
    {
     "name": "stdout",
     "output_type": "stream",
     "text": [
      "download: s3://mumgf-eagle01/hiseqXten_url.txt to ./hiseqXten_url.txt\n"
     ]
    }
   ],
   "source": [
    "aws s3 cp s3://mumgf-eagle01/hiseqXten_url.txt ."
   ]
  },
  {
   "cell_type": "markdown",
   "metadata": {},
   "source": [
    "Okay. Let's download the files from the URLs in the file."
   ]
  },
  {
   "cell_type": "code",
   "execution_count": 19,
   "metadata": {},
   "outputs": [
    {
     "name": "stdout",
     "output_type": "stream",
     "text": [
      "--2019-05-09 01:36:12--  ftp://ftp.sra.ebi.ac.uk/vol1/fastq/ERR322/002/ERR3229772/ERR3229772_1.fastq.gz\n",
      "           => ‘ERR3229772_1.fastq.gz’\n",
      "Resolving ftp.sra.ebi.ac.uk (ftp.sra.ebi.ac.uk)... 193.62.192.7\n",
      "Connecting to ftp.sra.ebi.ac.uk (ftp.sra.ebi.ac.uk)|193.62.192.7|:21... connected.\n",
      "Logging in as anonymous ... Logged in!\n",
      "==> SYST ... done.    ==> PWD ... done.\n",
      "==> TYPE I ... done.  ==> CWD (1) /vol1/fastq/ERR322/002/ERR3229772 ... done.\n",
      "==> SIZE ERR3229772_1.fastq.gz ... 4975966320\n",
      "==> PASV ... done.    ==> RETR ERR3229772_1.fastq.gz ... done.\n",
      "Length: 4975966320 (4.6G) (unauthoritative)\n",
      "\n",
      "ERR3229772_1.fastq. 100%[===================>]   4.63G  8.61MB/s    in 14m 24s \n",
      "\n",
      "2019-05-09 01:50:44 (5.49 MB/s) - ‘ERR3229772_1.fastq.gz’ saved [4975966320]\n",
      "\n",
      "--2019-05-09 01:50:44--  ftp://ftp.sra.ebi.ac.uk/vol1/fastq/ERR322/002/ERR3229772/ERR3229772_2.fastq.gz\n",
      "           => ‘ERR3229772_2.fastq.gz’\n",
      "Resolving ftp.sra.ebi.ac.uk (ftp.sra.ebi.ac.uk)... 193.62.192.7\n",
      "Connecting to ftp.sra.ebi.ac.uk (ftp.sra.ebi.ac.uk)|193.62.192.7|:21... connected.\n",
      "Logging in as anonymous ... Logged in!\n",
      "==> SYST ... done.    ==> PWD ... done.\n",
      "==> TYPE I ... done.  ==> CWD (1) /vol1/fastq/ERR322/002/ERR3229772 ... done.\n",
      "==> SIZE ERR3229772_2.fastq.gz ... 5646625948\n",
      "==> PASV ... done.    ==> RETR ERR3229772_2.fastq.gz ... done.\n",
      "Length: 5646625948 (5.3G) (unauthoritative)\n",
      "\n",
      "ERR3229772_2.fastq. 100%[===================>]   5.26G  6.57MB/s    in 19m 26s \n",
      "\n",
      "2019-05-09 02:10:16 (4.62 MB/s) - ‘ERR3229772_2.fastq.gz’ saved [5646625948]\n",
      "\n"
     ]
    }
   ],
   "source": [
    "for url in `cat hiseqXten_url.txt`; do\n",
    " wget $url\n",
    "done"
   ]
  },
  {
   "cell_type": "markdown",
   "metadata": {},
   "source": [
    "That took a while, around 30 minutes. Now, afterwards, we are going to copy the files we have downloaded back to the bucket. Or maybe we want to create a new bucket just for the Hiseq data. Let's create a bucket. Specify your region if you need to - I tried once and instead of Singapore, it created one in US East N. Virginia."
   ]
  },
  {
   "cell_type": "code",
   "execution_count": 9,
   "metadata": {},
   "outputs": [
    {
     "name": "stdout",
     "output_type": "stream",
     "text": [
      "make_bucket: eagle-hiseqxten\n"
     ]
    }
   ],
   "source": [
    "aws s3 mb s3://eagle-hiseqxten"
   ]
  },
  {
   "cell_type": "markdown",
   "metadata": {},
   "source": [
    "Now, like linux mv, move the fastq files into the bucket. "
   ]
  },
  {
   "cell_type": "code",
   "execution_count": 14,
   "metadata": {},
   "outputs": [
    {
     "name": "stdout",
     "output_type": "stream",
     "text": [
      "move: ./ERR3229772_1.fastq.gz to s3://eagle-hiseqxten/ERR3229772_1.fastq.gz\n",
      "move: ./ERR3229772_2.fastq.gz to s3://eagle-hiseqxten/ERR3229772_2.fastq.gz\n"
     ]
    }
   ],
   "source": [
    "aws s3 mv ERR3229772_1.fastq.gz s3://eagle-hiseqxten/ERR3229772_1.fastq.gz\n",
    "aws s3 mv ERR3229772_2.fastq.gz s3://eagle-hiseqxten/ERR3229772_2.fastq.gz"
   ]
  },
  {
   "cell_type": "code",
   "execution_count": 16,
   "metadata": {},
   "outputs": [
    {
     "name": "stdout",
     "output_type": "stream",
     "text": [
      "2019-05-09 03:06:15 4975966320 ERR3229772_1.fastq.gz\n",
      "2019-05-09 03:07:46 5646625948 ERR3229772_2.fastq.gz\n"
     ]
    }
   ],
   "source": [
    "aws s3 ls s3://eagle-hiseqxten"
   ]
  },
  {
   "cell_type": "markdown",
   "metadata": {},
   "source": [
    "Nice.\n",
    "\n",
    "Actually it is also possible to transfer files from your local computer to your S3 bucket. Let me try submit a sample text file."
   ]
  },
  {
   "cell_type": "raw",
   "metadata": {},
   "source": [
    "![](../images/Notebook06-1/image09.png)"
   ]
  },
  {
   "cell_type": "markdown",
   "metadata": {},
   "source": [
    "Well, that is a bit embarassing. By doing this, you can probably save money for not using EC2 instance. However, if you are limited by storage in your local computer, using an instance is one way of around it."
   ]
  }
 ],
 "metadata": {
  "kernelspec": {
   "display_name": "Bash",
   "language": "bash",
   "name": "bash"
  },
  "language_info": {
   "codemirror_mode": "shell",
   "file_extension": ".sh",
   "mimetype": "text/x-sh",
   "name": "bash"
  }
 },
 "nbformat": 4,
 "nbformat_minor": 2
}
