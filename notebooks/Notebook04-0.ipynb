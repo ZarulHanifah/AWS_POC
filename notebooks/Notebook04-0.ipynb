{
 "cells": [
  {
   "cell_type": "markdown",
   "metadata": {},
   "source": [
    "# Easy Spot Pricing"
   ]
  },
  {
   "cell_type": "markdown",
   "metadata": {},
   "source": [
    "Spot pricing is an easy way of saving cost while using AWS, which can get as high 90% discount. The traditional on-demand model makes AWS committed to us as the clients. With the spot-pricing model, AWS is no longer commited to us and can take away the computational resources when they need to.\n",
    "\n",
    "Here is a snapshot of the pricing with Spot Pricing."
   ]
  },
  {
   "cell_type": "markdown",
   "metadata": {},
   "source": [
    "![](../images/Notebook04/image01.png)"
   ]
  },
  {
   "cell_type": "markdown",
   "metadata": {},
   "source": [
    "Considering the spot pricing model, there is a possibility that our work getting interrupted halfway. Looking at the potential savings, and since the data is not so big, that is a cost we can afford for now - we can simply redo the analysis. You can use [AWS Spot Instance Advisor](https://aws.amazon.com/ec2/spot/instance-advisor/) to see the probability of an instance getting interrupted.\n",
    "\n",
    "In Singapore, some instances have <5% frequency of interruption (careful, some instances are not for spot pricing, notice 0% savings)...\n",
    "\n",
    "![](../images/Notebook04/image02.png)\n",
    "\n",
    "... and some instances have high interruption frequency - we probably want to avoid that, for now.\n",
    "\n",
    "![](../images/Notebook04/image03.png)"
   ]
  },
  {
   "cell_type": "markdown",
   "metadata": {},
   "source": [
    "Okay, let's start. Login to our console and go to EC2. Then, on the navigation panel, click on Spot Requests under Instances section. Then click Request Spot Instances."
   ]
  },
  {
   "cell_type": "markdown",
   "metadata": {},
   "source": [
    "![](../images/Notebook04/image04.png)"
   ]
  },
  {
   "cell_type": "markdown",
   "metadata": {},
   "source": [
    "I chose AMI: Ubuntu Server 18.04 LTS. r3.8xlarge seemed nice to me - 64 cores, 488 Gb RAM, 80% savings and low frequency of interruption. By default, we would have the /dev/sda1 with 8 Gb size; I also added an extra EBS volume of 200 Gb, remember how we ran out of storage space? I left the remaining options to default.\n",
    "\n",
    "![](../images/Notebook04/image05.png)\n",
    "\n",
    "You will also realize that there is a section called Fleet request. That is meant for spawning multiple instances. This is ideal for job submissions for more enormous genomic data. For now, we can escape that - there is a very steep learning curve that is required in using Spot Fleet.\n",
    "\n",
    "![](../images/Notebook04/image06.png)"
   ]
  },
  {
   "cell_type": "markdown",
   "metadata": {},
   "source": [
    "Check out the Additional request details. The IAM fleet role by default was aws-ec2-spot-fleet-tagging-role. IAM is the Identity and Access Management; a way of creating users/groups and defining permissions in using AWS resources. When I looked at aws-ec2-spot-fleet-tagging-role in IAM portal, I found:\n",
    "\n",
    "![](../images/Notebook04/image07.png)"
   ]
  },
  {
   "cell_type": "markdown",
   "metadata": {},
   "source": [
    "Maximum CLI/API session of 1 hour? Well, that is no fun. No matter, for now, I am not going to change that yet. For now, we are going with all default options with the Additional request details. Click launch.\n",
    "\n",
    "** IAM and Spot Fleet is still a very foreign concept to me - but we definitely will touch on this soon."
   ]
  },
  {
   "cell_type": "markdown",
   "metadata": {},
   "source": [
    "![](../images/Notebook04/image08.png)"
   ]
  },
  {
   "cell_type": "markdown",
   "metadata": {},
   "source": [
    "Go to your instance and voila - your instance is up and running."
   ]
  },
  {
   "cell_type": "markdown",
   "metadata": {},
   "source": [
    "![](../images/Notebook04/image09.png)"
   ]
  },
  {
   "cell_type": "markdown",
   "metadata": {},
   "source": [
    "On that instance, we are continuing our quest on long-read assembly and hybrid assembly using Unicycler."
   ]
  }
 ],
 "metadata": {
  "kernelspec": {
   "display_name": "Bash",
   "language": "bash",
   "name": "bash"
  },
  "language_info": {
   "codemirror_mode": "shell",
   "file_extension": ".sh",
   "mimetype": "text/x-sh",
   "name": "bash"
  }
 },
 "nbformat": 4,
 "nbformat_minor": 2
}
