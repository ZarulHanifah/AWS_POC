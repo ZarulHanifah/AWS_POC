{
 "cells": [
  {
   "cell_type": "markdown",
   "metadata": {},
   "source": [
    "# AWS Tutorial"
   ]
  },
  {
   "cell_type": "markdown",
   "metadata": {},
   "source": [
    "Hello everyone. The purpose of this tutorial is to document our experience of using AWS and explore how we can use the plethora of AWS services for genomics research in Monash University Malaysia.\n",
    "\n",
    "For starters, this tutorial will be distributed into a compressed file. The parent directory should contain folders (script, images, notebooks) and the main notebook.\n",
    "\n",
    "Here are the possible points to explore in AWS, notebooks are numbered:"
   ]
  },
  {
   "cell_type": "markdown",
   "metadata": {},
   "source": [
    "Notebook00. [Activating Proof-of-Concept (POC) credits](./notebooks/Notebook00.ipynb)</br>\n",
    "Notebook01. [Starting an instance](./notebooks/Notebook01.ipynb)</br>\n",
    "Notebook02. [Set billing alarm](./notebooks/Notebook02.ipynb)</br>\n",
    "Notebook02-1. [Testing out the instance - Unicycler for bacterial hybrid genome assembly](./notebooks/Notebook02-1.ipynb)</br>\n",
    "Notebook03. [Expanding EBS Volume]()\n",
    "\n",
    "IAM roles\n",
    "AWS S3\n",
    "Installing miniconda and run Jupyter\n",
    "Spot pricing\n",
    "Multiple instances\n",
    "Spot fleet\n",
    "\n",
    "Get started - E. coli K12 genome</br>\n",
    "Unicycler - Illumina only</br>\n",
    "Unicycler - Nanopore only</br>\n",
    "Unicycler - Hybrid assembly</br>"
   ]
  },
  {
   "cell_type": "code",
   "execution_count": null,
   "metadata": {},
   "outputs": [],
   "source": []
  }
 ],
 "metadata": {
  "kernelspec": {
   "display_name": "Python 3",
   "language": "python",
   "name": "python3"
  },
  "language_info": {
   "codemirror_mode": {
    "name": "ipython",
    "version": 3
   },
   "file_extension": ".py",
   "mimetype": "text/x-python",
   "name": "python",
   "nbconvert_exporter": "python",
   "pygments_lexer": "ipython3",
   "version": "3.7.1"
  }
 },
 "nbformat": 4,
 "nbformat_minor": 2
}
